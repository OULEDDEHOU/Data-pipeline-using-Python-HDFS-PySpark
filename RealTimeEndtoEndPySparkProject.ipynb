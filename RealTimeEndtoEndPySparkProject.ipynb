{
 "cells": [
  {
   "cell_type": "code",
   "execution_count": 1,
   "id": "6c64f7ca",
   "metadata": {},
   "outputs": [
    {
     "name": "stderr",
     "output_type": "stream",
     "text": [
      "23/09/26 17:02:53 WARN NativeCodeLoader: Unable to load native-hadoop library for your platform... using builtin-java classes where applicable\n",
      "Using Spark's default log4j profile: org/apache/spark/log4j-defaults.properties\n",
      "Setting default log level to \"WARN\".\n",
      "To adjust logging level use sc.setLogLevel(newLevel). For SparkR, use setLogLevel(newLevel).\n"
     ]
    }
   ],
   "source": [
    "import pyspark\n",
    "from pyspark.sql import SparkSession\n",
    "\n",
    "spark = SparkSession.\\\n",
    "        builder.\\\n",
    "        appName(\"notebook26\").\\\n",
    "        master(\"spark://spark-master:7077\").\\\n",
    "        config(\"spark.executor.memory\", \"512m\").\\\n",
    "        getOrCreate()"
   ]
  },
  {
   "cell_type": "code",
   "execution_count": 2,
   "id": "33dc4ba3",
   "metadata": {},
   "outputs": [
    {
     "name": "stderr",
     "output_type": "stream",
     "text": [
      "                                                                                \r"
     ]
    },
    {
     "name": "stdout",
     "output_type": "stream",
     "text": [
      "root\n",
      " |-- App: string (nullable = true)\n",
      " |-- Category: string (nullable = true)\n",
      " |-- Rating: string (nullable = true)\n",
      " |-- Reviews: string (nullable = true)\n",
      " |-- Size: string (nullable = true)\n",
      " |-- Installs: string (nullable = true)\n",
      " |-- Type: string (nullable = true)\n",
      " |-- Price: string (nullable = true)\n",
      " |-- Content Rating: string (nullable = true)\n",
      " |-- Genres: string (nullable = true)\n",
      " |-- Last Updated: string (nullable = true)\n",
      " |-- Current Ver: string (nullable = true)\n",
      " |-- Android Ver: string (nullable = true)\n",
      "\n"
     ]
    }
   ],
   "source": [
    "df = spark.read.csv(\"hdfs://namenode:9000/user/root/input/googleplaystore1.csv\",escape='\"', header=True)\n",
    "#display(df)\n",
    "df.printSchema()"
   ]
  },
  {
   "cell_type": "code",
   "execution_count": 3,
   "id": "575e7ed3",
   "metadata": {},
   "outputs": [
    {
     "name": "stderr",
     "output_type": "stream",
     "text": [
      "                                                                                \r"
     ]
    },
    {
     "name": "stdout",
     "output_type": "stream",
     "text": [
      "+--------------------+--------------+------+-------+----+--------+----+-----+--------------+------------+---------------+-----------+------------+\n",
      "|                 App|      Category|Rating|Reviews|Size|Installs|Type|Price|Content Rating|      Genres|   Last Updated|Current Ver| Android Ver|\n",
      "+--------------------+--------------+------+-------+----+--------+----+-----+--------------+------------+---------------+-----------+------------+\n",
      "|Photo Editor & Ca...|ART_AND_DESIGN|   4.1|    159| 19M| 10,000+|Free|    0|      Everyone|Art & Design|January 7, 2018|      1.0.0|4.0.3 and up|\n",
      "+--------------------+--------------+------+-------+----+--------+----+-----+--------------+------------+---------------+-----------+------------+\n",
      "only showing top 1 row\n",
      "\n"
     ]
    }
   ],
   "source": [
    "df.show(1)"
   ]
  },
  {
   "cell_type": "code",
   "execution_count": 4,
   "id": "442ff072",
   "metadata": {},
   "outputs": [],
   "source": [
    "from pyspark.sql.types import StructType, StructField, StringType, IntegerType\n",
    "from pyspark.sql.functions import *"
   ]
  },
  {
   "cell_type": "code",
   "execution_count": 5,
   "id": "142ceb22",
   "metadata": {},
   "outputs": [
    {
     "name": "stderr",
     "output_type": "stream",
     "text": [
      "                                                                                \r"
     ]
    },
    {
     "data": {
      "text/plain": [
       "10841"
      ]
     },
     "execution_count": 5,
     "metadata": {},
     "output_type": "execute_result"
    }
   ],
   "source": [
    "df.count()"
   ]
  },
  {
   "cell_type": "markdown",
   "id": "e9212def",
   "metadata": {},
   "source": [
    "## Data Cleaning Step"
   ]
  },
  {
   "cell_type": "code",
   "execution_count": 6,
   "id": "921a245b",
   "metadata": {},
   "outputs": [],
   "source": [
    "df = df.drop(\"size\")"
   ]
  },
  {
   "cell_type": "code",
   "execution_count": 7,
   "id": "bbbfc7bc",
   "metadata": {},
   "outputs": [
    {
     "name": "stdout",
     "output_type": "stream",
     "text": [
      "+--------------------+--------------+------+-------+--------+----+-----+--------------+------------+---------------+-----------+------------+\n",
      "|                 App|      Category|Rating|Reviews|Installs|Type|Price|Content Rating|      Genres|   Last Updated|Current Ver| Android Ver|\n",
      "+--------------------+--------------+------+-------+--------+----+-----+--------------+------------+---------------+-----------+------------+\n",
      "|Photo Editor & Ca...|ART_AND_DESIGN|   4.1|    159| 10,000+|Free|    0|      Everyone|Art & Design|January 7, 2018|      1.0.0|4.0.3 and up|\n",
      "+--------------------+--------------+------+-------+--------+----+-----+--------------+------------+---------------+-----------+------------+\n",
      "only showing top 1 row\n",
      "\n"
     ]
    }
   ],
   "source": [
    "df.show(1)"
   ]
  },
  {
   "cell_type": "code",
   "execution_count": 8,
   "id": "96b38e17",
   "metadata": {},
   "outputs": [],
   "source": [
    "df = df.drop(\"Content Rating\",\"Last Updated\",\"Android Ver\")"
   ]
  },
  {
   "cell_type": "code",
   "execution_count": 9,
   "id": "3eb6737a",
   "metadata": {},
   "outputs": [
    {
     "name": "stderr",
     "output_type": "stream",
     "text": [
      "[Stage 14:=========================================>              (56 + 2) / 75]\r"
     ]
    },
    {
     "name": "stdout",
     "output_type": "stream",
     "text": [
      "+-------------------+\n",
      "|           Category|\n",
      "+-------------------+\n",
      "|             EVENTS|\n",
      "|             COMICS|\n",
      "|             SPORTS|\n",
      "|            WEATHER|\n",
      "|      VIDEO_PLAYERS|\n",
      "|  AUTO_AND_VEHICLES|\n",
      "|          PARENTING|\n",
      "|      ENTERTAINMENT|\n",
      "|    PERSONALIZATION|\n",
      "| HEALTH_AND_FITNESS|\n",
      "|   TRAVEL_AND_LOCAL|\n",
      "|BOOKS_AND_REFERENCE|\n",
      "|     FOOD_AND_DRINK|\n",
      "|        PHOTOGRAPHY|\n",
      "|           BUSINESS|\n",
      "|             FAMILY|\n",
      "|           SHOPPING|\n",
      "|     HOUSE_AND_HOME|\n",
      "|               GAME|\n",
      "|                1.9|\n",
      "|          EDUCATION|\n",
      "|       PRODUCTIVITY|\n",
      "|              TOOLS|\n",
      "|          LIFESTYLE|\n",
      "| NEWS_AND_MAGAZINES|\n",
      "|            MEDICAL|\n",
      "|      COMMUNICATION|\n",
      "|MAPS_AND_NAVIGATION|\n",
      "|             DATING|\n",
      "| LIBRARIES_AND_DEMO|\n",
      "|             BEAUTY|\n",
      "|             SOCIAL|\n",
      "|            FINANCE|\n",
      "|     ART_AND_DESIGN|\n",
      "+-------------------+\n",
      "\n"
     ]
    },
    {
     "name": "stderr",
     "output_type": "stream",
     "text": [
      "                                                                                \r"
     ]
    }
   ],
   "source": [
    "df.select('Category').distinct().show(34)"
   ]
  },
  {
   "cell_type": "code",
   "execution_count": 10,
   "id": "298e28b0",
   "metadata": {},
   "outputs": [],
   "source": [
    "df = df.drop('Current Ver')"
   ]
  },
  {
   "cell_type": "code",
   "execution_count": 11,
   "id": "508a10a4",
   "metadata": {},
   "outputs": [
    {
     "name": "stdout",
     "output_type": "stream",
     "text": [
      "+----------------------------------------------+--------------+------+-------+--------+----+-----+------------+\n",
      "|App                                           |Category      |Rating|Reviews|Installs|Type|Price|Genres      |\n",
      "+----------------------------------------------+--------------+------+-------+--------+----+-----+------------+\n",
      "|Photo Editor & Candy Camera & Grid & ScrapBook|ART_AND_DESIGN|4.1   |159    |10,000+ |Free|0    |Art & Design|\n",
      "+----------------------------------------------+--------------+------+-------+--------+----+-----+------------+\n",
      "only showing top 1 row\n",
      "\n"
     ]
    }
   ],
   "source": [
    "df.show(1,truncate=False)"
   ]
  },
  {
   "cell_type": "code",
   "execution_count": 12,
   "id": "13b20432",
   "metadata": {},
   "outputs": [],
   "source": [
    "df = df.withColumn('Reviews',df.Reviews.cast(IntegerType()))\\\n",
    "       .withColumn('Installs', regexp_replace(col('Installs'),\"[^0-9]\",\"\"))"
   ]
  },
  {
   "cell_type": "code",
   "execution_count": 13,
   "id": "1e519e36",
   "metadata": {},
   "outputs": [
    {
     "name": "stdout",
     "output_type": "stream",
     "text": [
      "+----------------------------------------------+--------------+------+-------+--------+----+-----+-------------------------+\n",
      "|App                                           |Category      |Rating|Reviews|Installs|Type|Price|Genres                   |\n",
      "+----------------------------------------------+--------------+------+-------+--------+----+-----+-------------------------+\n",
      "|Photo Editor & Candy Camera & Grid & ScrapBook|ART_AND_DESIGN|4.1   |159    |10000   |Free|0    |Art & Design             |\n",
      "|Coloring book moana                           |ART_AND_DESIGN|3.9   |967    |500000  |Free|0    |Art & Design;Pretend Play|\n",
      "+----------------------------------------------+--------------+------+-------+--------+----+-----+-------------------------+\n",
      "only showing top 2 rows\n",
      "\n"
     ]
    }
   ],
   "source": [
    "df.show(2,truncate=False)"
   ]
  },
  {
   "cell_type": "code",
   "execution_count": 14,
   "id": "851c3093",
   "metadata": {},
   "outputs": [],
   "source": [
    "df = df.withColumn('Installs', col('Installs').cast(IntegerType()))\\\n",
    "       .withColumn('Price',regexp_replace(col('Price'),\"[$]\",\"\"))\\\n",
    "       .withColumn('Price',col('Price').cast(IntegerType()))"
   ]
  },
  {
   "cell_type": "code",
   "execution_count": 15,
   "id": "19ec60fb",
   "metadata": {},
   "outputs": [
    {
     "name": "stdout",
     "output_type": "stream",
     "text": [
      "+----------------------------------------------+--------------+------+-------+--------+----+-----+-------------------------+\n",
      "|App                                           |Category      |Rating|Reviews|Installs|Type|Price|Genres                   |\n",
      "+----------------------------------------------+--------------+------+-------+--------+----+-----+-------------------------+\n",
      "|Photo Editor & Candy Camera & Grid & ScrapBook|ART_AND_DESIGN|4.1   |159    |10000   |Free|0    |Art & Design             |\n",
      "|Coloring book moana                           |ART_AND_DESIGN|3.9   |967    |500000  |Free|0    |Art & Design;Pretend Play|\n",
      "+----------------------------------------------+--------------+------+-------+--------+----+-----+-------------------------+\n",
      "only showing top 2 rows\n",
      "\n"
     ]
    }
   ],
   "source": [
    "df.show(2, truncate=False)"
   ]
  },
  {
   "cell_type": "code",
   "execution_count": 16,
   "id": "ea0107e2",
   "metadata": {},
   "outputs": [
    {
     "name": "stdout",
     "output_type": "stream",
     "text": [
      "root\n",
      " |-- App: string (nullable = true)\n",
      " |-- Category: string (nullable = true)\n",
      " |-- Rating: string (nullable = true)\n",
      " |-- Reviews: integer (nullable = true)\n",
      " |-- Installs: integer (nullable = true)\n",
      " |-- Type: string (nullable = true)\n",
      " |-- Price: integer (nullable = true)\n",
      " |-- Genres: string (nullable = true)\n",
      "\n"
     ]
    }
   ],
   "source": [
    "df.printSchema()"
   ]
  },
  {
   "cell_type": "markdown",
   "id": "07793669",
   "metadata": {},
   "source": [
    "## Top reviews give to the apps"
   ]
  },
  {
   "cell_type": "code",
   "execution_count": 17,
   "id": "8430b1e8",
   "metadata": {},
   "outputs": [
    {
     "name": "stderr",
     "output_type": "stream",
     "text": [
      "                                                                                \r"
     ]
    },
    {
     "data": {
      "text/plain": [
       "9660"
      ]
     },
     "execution_count": 17,
     "metadata": {},
     "output_type": "execute_result"
    }
   ],
   "source": [
    "df.select('App').distinct().count()"
   ]
  },
  {
   "cell_type": "code",
   "execution_count": 18,
   "id": "343bb4f0",
   "metadata": {},
   "outputs": [],
   "source": [
    "df1 = df.groupBy('App').agg(sum(col('Reviews')).alias('Reviews'))"
   ]
  },
  {
   "cell_type": "code",
   "execution_count": 19,
   "id": "851fb5dc",
   "metadata": {},
   "outputs": [],
   "source": [
    "df2 = df1.sort(df1.Reviews.desc())"
   ]
  },
  {
   "cell_type": "markdown",
   "id": "3bcb3c59",
   "metadata": {},
   "source": [
    "### The Top 10 apps whose making good score in Reviews "
   ]
  },
  {
   "cell_type": "code",
   "execution_count": 20,
   "id": "851e200d",
   "metadata": {},
   "outputs": [
    {
     "name": "stderr",
     "output_type": "stream",
     "text": [
      "[Stage 22:=====================================================>(198 + 2) / 200]\r"
     ]
    },
    {
     "name": "stdout",
     "output_type": "stream",
     "text": [
      "+----------------------------------------+---------+\n",
      "|App                                     |Reviews  |\n",
      "+----------------------------------------+---------+\n",
      "|Instagram                               |266241989|\n",
      "|WhatsApp Messenger                      |207348304|\n",
      "|Clash of Clans                          |179558781|\n",
      "|Messenger – Text and Video Chat for Free|169932272|\n",
      "|Subway Surfers                          |166331958|\n",
      "|Candy Crush Saga                        |156993136|\n",
      "|Facebook                                |156286514|\n",
      "|8 Ball Pool                             |99386198 |\n",
      "|Clash Royale                            |92530298 |\n",
      "|Snapchat                                |68045010 |\n",
      "+----------------------------------------+---------+\n",
      "only showing top 10 rows\n",
      "\n"
     ]
    },
    {
     "name": "stderr",
     "output_type": "stream",
     "text": [
      "                                                                                \r"
     ]
    }
   ],
   "source": [
    "df2.show(10,truncate=False)"
   ]
  },
  {
   "cell_type": "markdown",
   "id": "b024c20f",
   "metadata": {},
   "source": [
    "## The Top 10 apps whose have a gib number of  installs"
   ]
  },
  {
   "cell_type": "code",
   "execution_count": 21,
   "id": "7d165959",
   "metadata": {},
   "outputs": [
    {
     "name": "stdout",
     "output_type": "stream",
     "text": [
      "root\n",
      " |-- App: string (nullable = true)\n",
      " |-- Category: string (nullable = true)\n",
      " |-- Rating: string (nullable = true)\n",
      " |-- Reviews: integer (nullable = true)\n",
      " |-- Installs: integer (nullable = true)\n",
      " |-- Type: string (nullable = true)\n",
      " |-- Price: integer (nullable = true)\n",
      " |-- Genres: string (nullable = true)\n",
      "\n"
     ]
    }
   ],
   "source": [
    "df.printSchema()"
   ]
  },
  {
   "cell_type": "code",
   "execution_count": 22,
   "id": "0588a8bd",
   "metadata": {},
   "outputs": [
    {
     "name": "stderr",
     "output_type": "stream",
     "text": [
      "[Stage 24:===================================================>  (191 + 1) / 200]\r"
     ]
    },
    {
     "name": "stdout",
     "output_type": "stream",
     "text": [
      "+----------------------------------------+----------+\n",
      "|App                                     |Installs  |\n",
      "+----------------------------------------+----------+\n",
      "|Subway Surfers                          |6000000000|\n",
      "|Google Drive                            |4000000000|\n",
      "|Instagram                               |4000000000|\n",
      "|Hangouts                                |4000000000|\n",
      "|Google News                             |4000000000|\n",
      "|Google Photos                           |4000000000|\n",
      "|Candy Crush Saga                        |3500000000|\n",
      "|Maps - Navigate & Explore               |3000000000|\n",
      "|Google Chrome: Fast & Secure            |3000000000|\n",
      "|Messenger – Text and Video Chat for Free|3000000000|\n",
      "+----------------------------------------+----------+\n",
      "only showing top 10 rows\n",
      "\n"
     ]
    },
    {
     "name": "stderr",
     "output_type": "stream",
     "text": [
      "                                                                                \r"
     ]
    }
   ],
   "source": [
    "df5 = df.groupBy('App').agg(sum('Installs').alias('Installs'))\n",
    "df6 = df5.sort(df5.Installs.desc())\n",
    "df6.show(10,truncate=False)"
   ]
  },
  {
   "cell_type": "code",
   "execution_count": 23,
   "id": "d22924ec",
   "metadata": {},
   "outputs": [],
   "source": [
    "df3 = df.groupBy('Category').agg(sum('Installs').alias('Installs'))"
   ]
  },
  {
   "cell_type": "code",
   "execution_count": 24,
   "id": "c50327ae",
   "metadata": {},
   "outputs": [],
   "source": [
    "df4= df3.sort(df3.Installs.desc())"
   ]
  },
  {
   "cell_type": "code",
   "execution_count": 25,
   "id": "f712f597",
   "metadata": {},
   "outputs": [
    {
     "name": "stderr",
     "output_type": "stream",
     "text": [
      "[Stage 26:====================================================> (196 + 2) / 200]\r"
     ]
    },
    {
     "name": "stdout",
     "output_type": "stream",
     "text": [
      "+------------------+-----------+\n",
      "|Category          |Installs   |\n",
      "+------------------+-----------+\n",
      "|GAME              |35086024415|\n",
      "|COMMUNICATION     |32647276251|\n",
      "|PRODUCTIVITY      |14176091369|\n",
      "|SOCIAL            |14069867902|\n",
      "|TOOLS             |11452771915|\n",
      "|FAMILY            |10258263505|\n",
      "|PHOTOGRAPHY       |10088247655|\n",
      "|NEWS_AND_MAGAZINES|7496317760 |\n",
      "|TRAVEL_AND_LOCAL  |6868887146 |\n",
      "|VIDEO_PLAYERS     |6222002720 |\n",
      "+------------------+-----------+\n",
      "only showing top 10 rows\n",
      "\n"
     ]
    },
    {
     "name": "stderr",
     "output_type": "stream",
     "text": [
      "                                                                                \r"
     ]
    }
   ],
   "source": [
    "df4.show(10,truncate=False)"
   ]
  },
  {
   "cell_type": "code",
   "execution_count": 27,
   "id": "e2dfff54",
   "metadata": {},
   "outputs": [],
   "source": [
    "df7 = df.groupBy(\"App\").agg(sum('Price').alias('Price'))"
   ]
  },
  {
   "cell_type": "code",
   "execution_count": 28,
   "id": "24b94f73",
   "metadata": {},
   "outputs": [
    {
     "name": "stderr",
     "output_type": "stream",
     "text": [
      "[Stage 28:=====================================================>(197 + 1) / 200]\r"
     ]
    },
    {
     "name": "stdout",
     "output_type": "stream",
     "text": [
      "+------------------------------+-----+\n",
      "|App                           |Price|\n",
      "+------------------------------+-----+\n",
      "|I'm Rich - Trump Edition      |400  |\n",
      "|I am rich (Most expensive app)|399  |\n",
      "|I am Rich!                    |399  |\n",
      "|I am Rich                     |399  |\n",
      "|I am rich(premium)            |399  |\n",
      "|I Am Rich Pro                 |399  |\n",
      "|most expensive app (H)        |399  |\n",
      "|I Am Rich Premium             |399  |\n",
      "|I AM RICH PRO PLUS            |399  |\n",
      "|I am Rich Plus                |399  |\n",
      "+------------------------------+-----+\n",
      "only showing top 10 rows\n",
      "\n"
     ]
    },
    {
     "name": "stderr",
     "output_type": "stream",
     "text": [
      "                                                                                \r"
     ]
    }
   ],
   "source": [
    "df8 = df7.sort(df7.Price.desc())\n",
    "df8.show(10, truncate=False)"
   ]
  },
  {
   "cell_type": "code",
   "execution_count": null,
   "id": "a4dec64e",
   "metadata": {},
   "outputs": [
    {
     "name": "stderr",
     "output_type": "stream",
     "text": [
      "[Stage 33:=======================================>                (24 + 1) / 34]\r"
     ]
    }
   ],
   "source": [
    "df4.write.parquet('hdfs://namenode:9000/user/root/output', mode='overwrite', partitionBy='Category')"
   ]
  },
  {
   "cell_type": "code",
   "execution_count": null,
   "id": "2343f62e",
   "metadata": {},
   "outputs": [],
   "source": [
    "df9 = spark.read.parquet('hdfs://namenode:9000/user/root/output/Category=GAME', header=True)"
   ]
  },
  {
   "cell_type": "code",
   "execution_count": null,
   "id": "5b858489",
   "metadata": {},
   "outputs": [],
   "source": [
    "df9.print"
   ]
  }
 ],
 "metadata": {
  "kernelspec": {
   "display_name": "Python 3 (ipykernel)",
   "language": "python",
   "name": "python3"
  },
  "language_info": {
   "codemirror_mode": {
    "name": "ipython",
    "version": 3
   },
   "file_extension": ".py",
   "mimetype": "text/x-python",
   "name": "python",
   "nbconvert_exporter": "python",
   "pygments_lexer": "ipython3",
   "version": "3.9.2"
  }
 },
 "nbformat": 4,
 "nbformat_minor": 5
}
